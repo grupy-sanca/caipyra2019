{
  "nbformat": 4,
  "nbformat_minor": 0,
  "metadata": {
    "colab": {
      "name": "OpenData.ipynb",
      "version": "0.3.2",
      "provenance": [],
      "collapsed_sections": []
    },
    "kernelspec": {
      "name": "python3",
      "display_name": "Python 3"
    }
  },
  "cells": [
    {
      "cell_type": "markdown",
      "metadata": {
        "id": "view-in-github",
        "colab_type": "text"
      },
      "source": [
        "<a href=\"https://colab.research.google.com/github/triatebr/aprenda-python/blob/master/CNR_.ipynb\" target=\"_parent\"><img src=\"https://colab.research.google.com/assets/colab-badge.svg\" alt=\"Open In Colab\"/></a>"
      ]
    },
    {
      "cell_type": "markdown",
      "metadata": {
        "id": "baCo8xMkk4X3",
        "colab_type": "text"
      },
      "source": [
        "![logos](https://mundogeo.com/wp-content/uploads/2014/01/Plataforma-Dados-Abertos.jpg)\n"
      ]
    },
    {
      "cell_type": "markdown",
      "metadata": {
        "id": "noSxPUrDk5nr",
        "colab_type": "text"
      },
      "source": [
        "Hoje teremos contato com os conceitos/prática de **Dados Abertos** e realizaremos uma análise exploratória usando comandos do **Python** via [Colab.research](https://colab.research.google.com/notebooks/welcome.ipynb)"
      ]
    },
    {
      "cell_type": "markdown",
      "metadata": {
        "id": "BY2GUknMk57C",
        "colab_type": "text"
      },
      "source": [
        "Para tanto usaremos conceitos de **Dataframe!?!?!** <p>\n"
      ]
    },
    {
      "cell_type": "markdown",
      "metadata": {
        "id": "u14PG0A8lCD4",
        "colab_type": "text"
      },
      "source": [
        "**Estruturas de dados no Pandas** <p>\n",
        "**Séries :**<p>\n",
        "Uma matriz uni-dimensional capaz de conter qualquer tipo de dado<p>\n",
        "s = pd.Series([3, -5, 7, 4], index=[‘a’, ‘b’, ‘c’, ‘d’])<p>\n",
        "  \n",
        "![alt text](https://www.vooo.pro/insights/wp-content/uploads/2018/01/pandas1.png)\n",
        "  \n",
        "**Frame de dados (Data frame) :**<p>\n",
        "Uma estrutura de dados bi-dimensional com colunas de diferentes tipos<p>\n",
        "\n",
        "data = {‘País’: [‘Portugal’, ‘Peru’, ‘Chile’], ‘Capital’: [‘Lisboa’, ‘Lima’, ‘Santiago’], ‘População’: [751000, 1120000, 695000]}<p>\n",
        "df = pd.DataFrame(data, columns=[‘País’, ‘Capital’, ‘População’])<p>\n",
        "  \n",
        "![alt text](https://www.vooo.pro/insights/wp-content/uploads/2018/01/pandas2.png)\n",
        "  \n",
        "[fonte](https://www.vooo.pro/insights/guia-de-acesso-rapido-ao-pandas/)"
      ]
    },
    {
      "cell_type": "code",
      "metadata": {
        "id": "9ODlU6jzky3e",
        "colab_type": "code",
        "colab": {}
      },
      "source": [
        "import pandas as pd\n",
        "import seaborn as sns\n",
        "import numpy as np\n",
        "import io\n",
        "import matplotlib.pyplot as plt\n",
        "%matplotlib inline"
      ],
      "execution_count": 0,
      "outputs": []
    },
    {
      "cell_type": "code",
      "metadata": {
        "id": "k_XZ38T6mcLl",
        "colab_type": "code",
        "colab": {}
      },
      "source": [
        "# Fonte dos dados: http://dados.gov.br/dataset/comite-nacional-para-os-refugiados\n",
        "url = 'https://www.justica.gov.br/seus-direitos/refugio/anexos/1990-a-2019-solicitacoes-de-reconhecimento-da-condicao-de-refugiado.xlsx'"
      ],
      "execution_count": 0,
      "outputs": []
    },
    {
      "cell_type": "code",
      "metadata": {
        "id": "3SW_HkYimpb7",
        "colab_type": "code",
        "colab": {}
      },
      "source": [
        "dfs = pd.read_excel(url,enconding='latin',delimiter=\";\")"
      ],
      "execution_count": 0,
      "outputs": []
    },
    {
      "cell_type": "code",
      "metadata": {
        "id": "8sEpxQ3Km8Jo",
        "colab_type": "code",
        "outputId": "96ceaf22-9cda-4a56-9dc6-4cc62c03b8f0",
        "colab": {
          "base_uri": "https://localhost:8080/",
          "height": 204
        }
      },
      "source": [
        "# Visualização das 5 primeiras linhas do dataframe, mas caso prefira mais linhas? insira o numero entre os '()'\n",
        "# Costuma-se usar nome sugestivos para os Dataframes, com foco na facilidade de lembrar e usar\n",
        "dfs.head()"
      ],
      "execution_count": 4,
      "outputs": [
        {
          "output_type": "execute_result",
          "data": {
            "text/html": [
              "<div>\n",
              "<style scoped>\n",
              "    .dataframe tbody tr th:only-of-type {\n",
              "        vertical-align: middle;\n",
              "    }\n",
              "\n",
              "    .dataframe tbody tr th {\n",
              "        vertical-align: top;\n",
              "    }\n",
              "\n",
              "    .dataframe thead th {\n",
              "        text-align: right;\n",
              "    }\n",
              "</style>\n",
              "<table border=\"1\" class=\"dataframe\">\n",
              "  <thead>\n",
              "    <tr style=\"text-align: right;\">\n",
              "      <th></th>\n",
              "      <th>Tipo de Alertas e Restrições</th>\n",
              "      <th>Nacionalidade</th>\n",
              "      <th>Mês/Ano</th>\n",
              "      <th>UF</th>\n",
              "      <th>Quantidade</th>\n",
              "    </tr>\n",
              "  </thead>\n",
              "  <tbody>\n",
              "    <tr>\n",
              "      <th>0</th>\n",
              "      <td>SOLICITAÇÃO DE REFÚGIO</td>\n",
              "      <td>AFEGANISTÃO</td>\n",
              "      <td>12/2001</td>\n",
              "      <td>DF</td>\n",
              "      <td>1</td>\n",
              "    </tr>\n",
              "    <tr>\n",
              "      <th>1</th>\n",
              "      <td>SOLICITAÇÃO DE REFÚGIO</td>\n",
              "      <td>AFEGANISTÃO</td>\n",
              "      <td>01/2010</td>\n",
              "      <td>DF</td>\n",
              "      <td>1</td>\n",
              "    </tr>\n",
              "    <tr>\n",
              "      <th>2</th>\n",
              "      <td>SOLICITAÇÃO DE REFÚGIO</td>\n",
              "      <td>AFEGANISTÃO</td>\n",
              "      <td>03/2010</td>\n",
              "      <td>DF</td>\n",
              "      <td>2</td>\n",
              "    </tr>\n",
              "    <tr>\n",
              "      <th>3</th>\n",
              "      <td>SOLICITAÇÃO DE REFÚGIO</td>\n",
              "      <td>AFEGANISTÃO</td>\n",
              "      <td>03/2010</td>\n",
              "      <td>SP</td>\n",
              "      <td>2</td>\n",
              "    </tr>\n",
              "    <tr>\n",
              "      <th>4</th>\n",
              "      <td>SOLICITAÇÃO DE REFÚGIO</td>\n",
              "      <td>AFEGANISTÃO</td>\n",
              "      <td>08/2010</td>\n",
              "      <td>DF</td>\n",
              "      <td>1</td>\n",
              "    </tr>\n",
              "  </tbody>\n",
              "</table>\n",
              "</div>"
            ],
            "text/plain": [
              "  Tipo de Alertas e Restrições Nacionalidade  Mês/Ano  UF  Quantidade\n",
              "0       SOLICITAÇÃO DE REFÚGIO   AFEGANISTÃO  12/2001  DF           1\n",
              "1       SOLICITAÇÃO DE REFÚGIO   AFEGANISTÃO  01/2010  DF           1\n",
              "2       SOLICITAÇÃO DE REFÚGIO   AFEGANISTÃO  03/2010  DF           2\n",
              "3       SOLICITAÇÃO DE REFÚGIO   AFEGANISTÃO  03/2010  SP           2\n",
              "4       SOLICITAÇÃO DE REFÚGIO   AFEGANISTÃO  08/2010  DF           1"
            ]
          },
          "metadata": {
            "tags": []
          },
          "execution_count": 4
        }
      ]
    },
    {
      "cell_type": "code",
      "metadata": {
        "id": "nwdMNeblpFbs",
        "colab_type": "code",
        "outputId": "e6377df8-af42-4704-fd43-bd3d1b610189",
        "colab": {
          "base_uri": "https://localhost:8080/",
          "height": 34
        }
      },
      "source": [
        "# Quantidade de linhas e colunas do dataframe\n",
        "dfs.shape"
      ],
      "execution_count": 5,
      "outputs": [
        {
          "output_type": "execute_result",
          "data": {
            "text/plain": [
              "(11656, 5)"
            ]
          },
          "metadata": {
            "tags": []
          },
          "execution_count": 5
        }
      ]
    },
    {
      "cell_type": "code",
      "metadata": {
        "id": "Qx5bqo5DpIYz",
        "colab_type": "code",
        "outputId": "0d01072c-7ad2-40da-c7da-8b7c2d3f7ac3",
        "colab": {
          "base_uri": "https://localhost:8080/",
          "height": 68
        }
      },
      "source": [
        "# Todas as colunas do dataframe\n",
        "dfs.columns"
      ],
      "execution_count": 6,
      "outputs": [
        {
          "output_type": "execute_result",
          "data": {
            "text/plain": [
              "Index(['Tipo de Alertas e Restrições', 'Nacionalidade', 'Mês/Ano', 'UF',\n",
              "       'Quantidade'],\n",
              "      dtype='object')"
            ]
          },
          "metadata": {
            "tags": []
          },
          "execution_count": 6
        }
      ]
    },
    {
      "cell_type": "code",
      "metadata": {
        "id": "nZv5FTSApHzq",
        "colab_type": "code",
        "outputId": "0e35ed01-958f-4feb-e7f4-cd3436706999",
        "colab": {
          "base_uri": "https://localhost:8080/",
          "height": 119
        }
      },
      "source": [
        "# Após a importação e visualização, como serão as colunas e características do nosso Dataframe?\n",
        "dfs.dtypes"
      ],
      "execution_count": 7,
      "outputs": [
        {
          "output_type": "execute_result",
          "data": {
            "text/plain": [
              "Tipo de Alertas e Restrições    object\n",
              "Nacionalidade                   object\n",
              "Mês/Ano                         object\n",
              "UF                              object\n",
              "Quantidade                       int64\n",
              "dtype: object"
            ]
          },
          "metadata": {
            "tags": []
          },
          "execution_count": 7
        }
      ]
    },
    {
      "cell_type": "markdown",
      "metadata": {
        "id": "KvDUKjk6p3fv",
        "colab_type": "text"
      },
      "source": [
        "Informação **NACIONALIDADE**"
      ]
    },
    {
      "cell_type": "code",
      "metadata": {
        "id": "Gc5fA11SpGK2",
        "colab_type": "code",
        "outputId": "d2669e1a-eb21-4eee-fbed-e3e08fadb9f1",
        "colab": {
          "base_uri": "https://localhost:8080/",
          "height": 612
        }
      },
      "source": [
        "# Para sabermos os valores únicos de uma determinada coluna, usamos o 'unique()'\n",
        "dfs['Nacionalidade'].unique()"
      ],
      "execution_count": 8,
      "outputs": [
        {
          "output_type": "execute_result",
          "data": {
            "text/plain": [
              "array(['AFEGANISTÃO', 'ALBÂNIA', 'ALEMANHA', 'ANDORRA', 'ANGOLA',\n",
              "       'APÁTRIDA', 'ARGENTINA', 'ARGÉLIA', 'ARMÊNIA', 'ARÁBIA SAUDITA',\n",
              "       'AUSTRÁLIA', 'BANGLADESH', 'BARBADOS', 'BAREINE', 'BELARUS',\n",
              "       'BELIZE', 'BENIN', 'BHUTAN', 'BOLÍVIA', 'BRASIL', 'BULGÁRIA',\n",
              "       'BURKINA FASO', 'BURUNDI', 'BUTÃO', 'BÉLGICA',\n",
              "       'BÓSNIA E HERZEGOVINA', 'CABO VERDE', 'CAMARÕES', 'CAMBOJA',\n",
              "       'CANADÁ', 'CAZAQUISTÃO', 'CHILE', 'CHINA', 'COLÔMBIA', 'CONGO',\n",
              "       'CORÉIA DO NORTE', 'CORÉIA DO SUL', 'COSTA DO MARFIM',\n",
              "       'COSTA RICA', 'CROÁCIA', 'CUBA', 'DAOME', 'DINAMARCA', 'DJIBUTI',\n",
              "       'DOMINICA', 'EGITO', 'EL SALVADOR', 'EMIRADOS ÁRABES', 'EQUADOR',\n",
              "       'ERITRÉIA', 'ESLOVÁQUIA', 'ESPANHA', 'ESTADOS UNIDOS', 'ESTÔNIA',\n",
              "       'ETIÓPIA', 'FIJI, ILHAS', 'FILIPINAS', 'FRANÇA', 'GABÃO', 'GANA',\n",
              "       'GEÓRGIA', 'GRÉCIA', 'GUAM', 'GUATEMALA', 'GUIANA',\n",
              "       'GUIANA FRANCESA', 'GUINÉ', 'GUINÉ BISSAU', 'GUINÉ EQUATORIAL',\n",
              "       'GÂMBIA', 'HAITI', 'HONDURAS', 'HUNGRIA', 'INDONÉSIA', 'IRAQUE',\n",
              "       'IRLANDA', 'IRÃ', 'ISRAEL', 'ITÁLIA', 'IUGUSLAVIA', 'IÊMEN',\n",
              "       'JAMAICA', 'JAPÃO', 'JORDÂNIA', 'KUAITE', 'LAOS', 'LESOTO',\n",
              "       'LETÔNIA', 'LIBÉRIA', 'LITUÂNIA', 'LÍBANO', 'LÍBIA',\n",
              "       'MACAU (R.A.E.)', 'MACEDÔNIA', 'MALGAXE', 'MALI', 'MALTA',\n",
              "       'MALÁSIA', 'MARROCOS', 'MAURITÂNIA', 'MAURÍCIO', 'MONGÓLIA',\n",
              "       'MOÇAMBIQUE', 'MYANMAR', 'MÉXICO', 'NACIONALIDADE INDEFINIDA',\n",
              "       'NAMÍBIA', 'NEPAL', 'NICARÁGUA', 'NIGÉRIA', 'NORUEGA',\n",
              "       'NOVA ZELÂNDIA', 'NÍGER', 'PALESTINA', 'PANAMÁ', 'PAQUISTÃO',\n",
              "       'PARAGUAI', 'PAÍSES BAIXOS', 'PERU', 'POLÔNIA', 'PORTUGAL',\n",
              "       'QUÊNIA', 'REINO UNIDO', 'REP. CENTRO AFRICANA', 'REP. DOMINICANA',\n",
              "       'REPÚBLICA DEMOCRÁTICA DO CONGO', 'REPÚBLICA TCHECA', 'ROMÊNIA',\n",
              "       'RUANDA', 'RÚSSIA', 'SAARA OCIDENTAL\\n- SAARAUI, REPÚBLICA',\n",
              "       'SENEGAL', 'SERRA LEOA', 'SOMÁLIA', 'SRI LANKA',\n",
              "       'ST. PIERRE ET MIQUELON', 'SUDÃO', 'SURINAME', 'SUÉCIA', 'SUÍÇA',\n",
              "       'SÃO TOMÉ E PRÍNCIPE', 'SÉRVIA', 'SÍRIA', 'TAILÂNDIA', 'TAIWAN',\n",
              "       'TANZÂNIA', 'TOGO', 'TRINIDAD E TOBAGO', 'TUNÍSIA',\n",
              "       'TURCOMENISTÃO', 'TURQUIA', 'UCRÂNIA', 'UGANDA', 'UNIÃO SOVIÉTICA',\n",
              "       'URUGUAI', 'UZBEQUISTÃO', 'VANUATU', 'VATICANO', 'VENEZUELA',\n",
              "       'VIETNÃ', 'ZAIRE', 'ZIMBÁBUE', 'ZÂMBIA', 'ÁFRICA DO SUL', 'ÍNDIA'],\n",
              "      dtype=object)"
            ]
          },
          "metadata": {
            "tags": []
          },
          "execution_count": 8
        }
      ]
    },
    {
      "cell_type": "code",
      "metadata": {
        "id": "g5bbn_u8p0q3",
        "colab_type": "code",
        "outputId": "9c98085d-2a84-4815-9e2f-af589145ba7e",
        "colab": {
          "base_uri": "https://localhost:8080/",
          "height": 1071
        }
      },
      "source": [
        "# Agrupando dados, inicialmente por Nacionalidade\n",
        "dfs['Nacionalidade'].value_counts()"
      ],
      "execution_count": 9,
      "outputs": [
        {
          "output_type": "execute_result",
          "data": {
            "text/plain": [
              "CUBA                                     887\n",
              "HAITI                                    775\n",
              "VENEZUELA                                665\n",
              "COLÔMBIA                                 556\n",
              "SENEGAL                                  469\n",
              "SÍRIA                                    466\n",
              "BANGLADESH                               385\n",
              "GUINÉ BISSAU                             371\n",
              "ANGOLA                                   343\n",
              "CONGO                                    337\n",
              "PAQUISTÃO                                325\n",
              "GANA                                     298\n",
              "NIGÉRIA                                  294\n",
              "REP. DOMINICANA                          289\n",
              "LÍBANO                                   255\n",
              "GUINÉ                                    219\n",
              "MARROCOS                                 178\n",
              "IRAQUE                                   164\n",
              "PALESTINA                                150\n",
              "ÍNDIA                                    147\n",
              "NACIONALIDADE INDEFINIDA                 144\n",
              "EGITO                                    137\n",
              "SERRA LEOA                               132\n",
              "TOGO                                     131\n",
              "CAMARÕES                                 124\n",
              "SOMÁLIA                                  122\n",
              "REPÚBLICA DEMOCRÁTICA DO CONGO           118\n",
              "CHINA                                    117\n",
              "GÂMBIA                                   116\n",
              "BOLÍVIA                                  113\n",
              "                                        ... \n",
              "SAARA OCIDENTAL\\n- SAARAUI, REPÚBLICA      2\n",
              "NOVA ZELÂNDIA                              2\n",
              "MACEDÔNIA                                  2\n",
              "TRINIDAD E TOBAGO                          2\n",
              "SUÍÇA                                      1\n",
              "BAREINE                                    1\n",
              "GUAM                                       1\n",
              "MAURÍCIO                                   1\n",
              "MONGÓLIA                                   1\n",
              "DAOME                                      1\n",
              "BELARUS                                    1\n",
              "BÉLGICA                                    1\n",
              "LAOS                                       1\n",
              "BUTÃO                                      1\n",
              "IRLANDA                                    1\n",
              "ESLOVÁQUIA                                 1\n",
              "GABÃO                                      1\n",
              "LETÔNIA                                    1\n",
              "CORÉIA DO NORTE                            1\n",
              "BÓSNIA E HERZEGOVINA                       1\n",
              "CAMBOJA                                    1\n",
              "BARBADOS                                   1\n",
              "IUGUSLAVIA                                 1\n",
              "CROÁCIA                                    1\n",
              "ST. PIERRE ET MIQUELON                     1\n",
              "NORUEGA                                    1\n",
              "MALGAXE                                    1\n",
              "ESTÔNIA                                    1\n",
              "CANADÁ                                     1\n",
              "BELIZE                                     1\n",
              "Name: Nacionalidade, Length: 165, dtype: int64"
            ]
          },
          "metadata": {
            "tags": []
          },
          "execution_count": 9
        }
      ]
    },
    {
      "cell_type": "code",
      "metadata": {
        "id": "BFoh58aOqIx8",
        "colab_type": "code",
        "outputId": "96e0d4dc-01fd-4bc2-a6d9-e4d069f832ff",
        "colab": {
          "base_uri": "https://localhost:8080/",
          "height": 1969
        }
      },
      "source": [
        "#selecionando uma Nacionalidade específica\n",
        "dfs.loc[(dfs['Nacionalidade'] == 'BOLÍVIA')]"
      ],
      "execution_count": 10,
      "outputs": [
        {
          "output_type": "execute_result",
          "data": {
            "text/html": [
              "<div>\n",
              "<style scoped>\n",
              "    .dataframe tbody tr th:only-of-type {\n",
              "        vertical-align: middle;\n",
              "    }\n",
              "\n",
              "    .dataframe tbody tr th {\n",
              "        vertical-align: top;\n",
              "    }\n",
              "\n",
              "    .dataframe thead th {\n",
              "        text-align: right;\n",
              "    }\n",
              "</style>\n",
              "<table border=\"1\" class=\"dataframe\">\n",
              "  <thead>\n",
              "    <tr style=\"text-align: right;\">\n",
              "      <th></th>\n",
              "      <th>Tipo de Alertas e Restrições</th>\n",
              "      <th>Nacionalidade</th>\n",
              "      <th>Mês/Ano</th>\n",
              "      <th>UF</th>\n",
              "      <th>Quantidade</th>\n",
              "    </tr>\n",
              "  </thead>\n",
              "  <tbody>\n",
              "    <tr>\n",
              "      <th>1082</th>\n",
              "      <td>SOLICITAÇÃO DE REFÚGIO</td>\n",
              "      <td>BOLÍVIA</td>\n",
              "      <td>02/2002</td>\n",
              "      <td>SP</td>\n",
              "      <td>1</td>\n",
              "    </tr>\n",
              "    <tr>\n",
              "      <th>1083</th>\n",
              "      <td>SOLICITAÇÃO DE REFÚGIO</td>\n",
              "      <td>BOLÍVIA</td>\n",
              "      <td>06/2002</td>\n",
              "      <td>SP</td>\n",
              "      <td>7</td>\n",
              "    </tr>\n",
              "    <tr>\n",
              "      <th>1084</th>\n",
              "      <td>SOLICITAÇÃO DE REFÚGIO</td>\n",
              "      <td>BOLÍVIA</td>\n",
              "      <td>07/2002</td>\n",
              "      <td>SP</td>\n",
              "      <td>1</td>\n",
              "    </tr>\n",
              "    <tr>\n",
              "      <th>1085</th>\n",
              "      <td>SOLICITAÇÃO DE REFÚGIO</td>\n",
              "      <td>BOLÍVIA</td>\n",
              "      <td>01/2006</td>\n",
              "      <td>SP</td>\n",
              "      <td>1</td>\n",
              "    </tr>\n",
              "    <tr>\n",
              "      <th>1086</th>\n",
              "      <td>SOLICITAÇÃO DE REFÚGIO</td>\n",
              "      <td>BOLÍVIA</td>\n",
              "      <td>07/2006</td>\n",
              "      <td>SP</td>\n",
              "      <td>1</td>\n",
              "    </tr>\n",
              "    <tr>\n",
              "      <th>1087</th>\n",
              "      <td>SOLICITAÇÃO DE REFÚGIO</td>\n",
              "      <td>BOLÍVIA</td>\n",
              "      <td>11/2008</td>\n",
              "      <td>AC</td>\n",
              "      <td>16</td>\n",
              "    </tr>\n",
              "    <tr>\n",
              "      <th>1088</th>\n",
              "      <td>SOLICITAÇÃO DE REFÚGIO</td>\n",
              "      <td>BOLÍVIA</td>\n",
              "      <td>11/2008</td>\n",
              "      <td>DF</td>\n",
              "      <td>3</td>\n",
              "    </tr>\n",
              "    <tr>\n",
              "      <th>1089</th>\n",
              "      <td>SOLICITAÇÃO DE REFÚGIO</td>\n",
              "      <td>BOLÍVIA</td>\n",
              "      <td>11/2008</td>\n",
              "      <td>RO</td>\n",
              "      <td>3</td>\n",
              "    </tr>\n",
              "    <tr>\n",
              "      <th>1090</th>\n",
              "      <td>SOLICITAÇÃO DE REFÚGIO</td>\n",
              "      <td>BOLÍVIA</td>\n",
              "      <td>12/2008</td>\n",
              "      <td>AC</td>\n",
              "      <td>35</td>\n",
              "    </tr>\n",
              "    <tr>\n",
              "      <th>1091</th>\n",
              "      <td>SOLICITAÇÃO DE REFÚGIO</td>\n",
              "      <td>BOLÍVIA</td>\n",
              "      <td>12/2008</td>\n",
              "      <td>DF</td>\n",
              "      <td>5</td>\n",
              "    </tr>\n",
              "    <tr>\n",
              "      <th>1092</th>\n",
              "      <td>SOLICITAÇÃO DE REFÚGIO</td>\n",
              "      <td>BOLÍVIA</td>\n",
              "      <td>12/2008</td>\n",
              "      <td>RO</td>\n",
              "      <td>1</td>\n",
              "    </tr>\n",
              "    <tr>\n",
              "      <th>1093</th>\n",
              "      <td>SOLICITAÇÃO DE REFÚGIO</td>\n",
              "      <td>BOLÍVIA</td>\n",
              "      <td>01/2009</td>\n",
              "      <td>AC</td>\n",
              "      <td>142</td>\n",
              "    </tr>\n",
              "    <tr>\n",
              "      <th>1094</th>\n",
              "      <td>SOLICITAÇÃO DE REFÚGIO</td>\n",
              "      <td>BOLÍVIA</td>\n",
              "      <td>01/2009</td>\n",
              "      <td>DF</td>\n",
              "      <td>25</td>\n",
              "    </tr>\n",
              "    <tr>\n",
              "      <th>1095</th>\n",
              "      <td>SOLICITAÇÃO DE REFÚGIO</td>\n",
              "      <td>BOLÍVIA</td>\n",
              "      <td>01/2009</td>\n",
              "      <td>MS</td>\n",
              "      <td>1</td>\n",
              "    </tr>\n",
              "    <tr>\n",
              "      <th>1096</th>\n",
              "      <td>SOLICITAÇÃO DE REFÚGIO</td>\n",
              "      <td>BOLÍVIA</td>\n",
              "      <td>02/2009</td>\n",
              "      <td>AC</td>\n",
              "      <td>1</td>\n",
              "    </tr>\n",
              "    <tr>\n",
              "      <th>1097</th>\n",
              "      <td>SOLICITAÇÃO DE REFÚGIO</td>\n",
              "      <td>BOLÍVIA</td>\n",
              "      <td>03/2009</td>\n",
              "      <td>DF</td>\n",
              "      <td>1</td>\n",
              "    </tr>\n",
              "    <tr>\n",
              "      <th>1098</th>\n",
              "      <td>SOLICITAÇÃO DE REFÚGIO</td>\n",
              "      <td>BOLÍVIA</td>\n",
              "      <td>04/2009</td>\n",
              "      <td>AC</td>\n",
              "      <td>11</td>\n",
              "    </tr>\n",
              "    <tr>\n",
              "      <th>1099</th>\n",
              "      <td>SOLICITAÇÃO DE REFÚGIO</td>\n",
              "      <td>BOLÍVIA</td>\n",
              "      <td>04/2009</td>\n",
              "      <td>DF</td>\n",
              "      <td>2</td>\n",
              "    </tr>\n",
              "    <tr>\n",
              "      <th>1100</th>\n",
              "      <td>SOLICITAÇÃO DE REFÚGIO</td>\n",
              "      <td>BOLÍVIA</td>\n",
              "      <td>06/2009</td>\n",
              "      <td>AC</td>\n",
              "      <td>6</td>\n",
              "    </tr>\n",
              "    <tr>\n",
              "      <th>1101</th>\n",
              "      <td>SOLICITAÇÃO DE REFÚGIO</td>\n",
              "      <td>BOLÍVIA</td>\n",
              "      <td>06/2009</td>\n",
              "      <td>DF</td>\n",
              "      <td>2</td>\n",
              "    </tr>\n",
              "    <tr>\n",
              "      <th>1102</th>\n",
              "      <td>SOLICITAÇÃO DE REFÚGIO</td>\n",
              "      <td>BOLÍVIA</td>\n",
              "      <td>08/2009</td>\n",
              "      <td>RO</td>\n",
              "      <td>1</td>\n",
              "    </tr>\n",
              "    <tr>\n",
              "      <th>1103</th>\n",
              "      <td>SOLICITAÇÃO DE REFÚGIO</td>\n",
              "      <td>BOLÍVIA</td>\n",
              "      <td>01/2010</td>\n",
              "      <td>AC</td>\n",
              "      <td>5</td>\n",
              "    </tr>\n",
              "    <tr>\n",
              "      <th>1104</th>\n",
              "      <td>SOLICITAÇÃO DE REFÚGIO</td>\n",
              "      <td>BOLÍVIA</td>\n",
              "      <td>03/2010</td>\n",
              "      <td>AC</td>\n",
              "      <td>4</td>\n",
              "    </tr>\n",
              "    <tr>\n",
              "      <th>1105</th>\n",
              "      <td>SOLICITAÇÃO DE REFÚGIO</td>\n",
              "      <td>BOLÍVIA</td>\n",
              "      <td>03/2010</td>\n",
              "      <td>MS</td>\n",
              "      <td>1</td>\n",
              "    </tr>\n",
              "    <tr>\n",
              "      <th>1106</th>\n",
              "      <td>SOLICITAÇÃO DE REFÚGIO</td>\n",
              "      <td>BOLÍVIA</td>\n",
              "      <td>07/2010</td>\n",
              "      <td>AC</td>\n",
              "      <td>1</td>\n",
              "    </tr>\n",
              "    <tr>\n",
              "      <th>1107</th>\n",
              "      <td>SOLICITAÇÃO DE REFÚGIO</td>\n",
              "      <td>BOLÍVIA</td>\n",
              "      <td>07/2010</td>\n",
              "      <td>MS</td>\n",
              "      <td>1</td>\n",
              "    </tr>\n",
              "    <tr>\n",
              "      <th>1108</th>\n",
              "      <td>SOLICITAÇÃO DE REFÚGIO</td>\n",
              "      <td>BOLÍVIA</td>\n",
              "      <td>08/2010</td>\n",
              "      <td>AC</td>\n",
              "      <td>2</td>\n",
              "    </tr>\n",
              "    <tr>\n",
              "      <th>1109</th>\n",
              "      <td>SOLICITAÇÃO DE REFÚGIO</td>\n",
              "      <td>BOLÍVIA</td>\n",
              "      <td>09/2010</td>\n",
              "      <td>AC</td>\n",
              "      <td>5</td>\n",
              "    </tr>\n",
              "    <tr>\n",
              "      <th>1110</th>\n",
              "      <td>SOLICITAÇÃO DE REFÚGIO</td>\n",
              "      <td>BOLÍVIA</td>\n",
              "      <td>09/2010</td>\n",
              "      <td>MS</td>\n",
              "      <td>1</td>\n",
              "    </tr>\n",
              "    <tr>\n",
              "      <th>1111</th>\n",
              "      <td>SOLICITAÇÃO DE REFÚGIO</td>\n",
              "      <td>BOLÍVIA</td>\n",
              "      <td>10/2010</td>\n",
              "      <td>AC</td>\n",
              "      <td>3</td>\n",
              "    </tr>\n",
              "    <tr>\n",
              "      <th>...</th>\n",
              "      <td>...</td>\n",
              "      <td>...</td>\n",
              "      <td>...</td>\n",
              "      <td>...</td>\n",
              "      <td>...</td>\n",
              "    </tr>\n",
              "    <tr>\n",
              "      <th>1165</th>\n",
              "      <td>SOLICITAÇÃO DE REFÚGIO</td>\n",
              "      <td>BOLÍVIA</td>\n",
              "      <td>06/2017</td>\n",
              "      <td>SP</td>\n",
              "      <td>1</td>\n",
              "    </tr>\n",
              "    <tr>\n",
              "      <th>1166</th>\n",
              "      <td>SOLICITAÇÃO DE REFÚGIO</td>\n",
              "      <td>BOLÍVIA</td>\n",
              "      <td>07/2017</td>\n",
              "      <td>DF</td>\n",
              "      <td>1</td>\n",
              "    </tr>\n",
              "    <tr>\n",
              "      <th>1167</th>\n",
              "      <td>SOLICITAÇÃO DE REFÚGIO</td>\n",
              "      <td>BOLÍVIA</td>\n",
              "      <td>09/2017</td>\n",
              "      <td>RJ</td>\n",
              "      <td>1</td>\n",
              "    </tr>\n",
              "    <tr>\n",
              "      <th>1168</th>\n",
              "      <td>SOLICITAÇÃO DE REFÚGIO</td>\n",
              "      <td>BOLÍVIA</td>\n",
              "      <td>10/2017</td>\n",
              "      <td>SP</td>\n",
              "      <td>2</td>\n",
              "    </tr>\n",
              "    <tr>\n",
              "      <th>1169</th>\n",
              "      <td>SOLICITAÇÃO DE REFÚGIO</td>\n",
              "      <td>BOLÍVIA</td>\n",
              "      <td>01/2018</td>\n",
              "      <td>AM</td>\n",
              "      <td>1</td>\n",
              "    </tr>\n",
              "    <tr>\n",
              "      <th>1170</th>\n",
              "      <td>SOLICITAÇÃO DE REFÚGIO</td>\n",
              "      <td>BOLÍVIA</td>\n",
              "      <td>02/2018</td>\n",
              "      <td>SP</td>\n",
              "      <td>1</td>\n",
              "    </tr>\n",
              "    <tr>\n",
              "      <th>1171</th>\n",
              "      <td>SOLICITAÇÃO DE REFÚGIO</td>\n",
              "      <td>BOLÍVIA</td>\n",
              "      <td>03/2018</td>\n",
              "      <td>MS</td>\n",
              "      <td>1</td>\n",
              "    </tr>\n",
              "    <tr>\n",
              "      <th>1172</th>\n",
              "      <td>SOLICITAÇÃO DE REFÚGIO</td>\n",
              "      <td>BOLÍVIA</td>\n",
              "      <td>04/2018</td>\n",
              "      <td>SP</td>\n",
              "      <td>1</td>\n",
              "    </tr>\n",
              "    <tr>\n",
              "      <th>1173</th>\n",
              "      <td>SOLICITAÇÃO DE REFÚGIO</td>\n",
              "      <td>BOLÍVIA</td>\n",
              "      <td>05/2018</td>\n",
              "      <td>AM</td>\n",
              "      <td>1</td>\n",
              "    </tr>\n",
              "    <tr>\n",
              "      <th>1174</th>\n",
              "      <td>SOLICITAÇÃO DE REFÚGIO</td>\n",
              "      <td>BOLÍVIA</td>\n",
              "      <td>05/2018</td>\n",
              "      <td>RR</td>\n",
              "      <td>1</td>\n",
              "    </tr>\n",
              "    <tr>\n",
              "      <th>1175</th>\n",
              "      <td>SOLICITAÇÃO DE REFÚGIO</td>\n",
              "      <td>BOLÍVIA</td>\n",
              "      <td>06/2018</td>\n",
              "      <td>AC</td>\n",
              "      <td>3</td>\n",
              "    </tr>\n",
              "    <tr>\n",
              "      <th>1176</th>\n",
              "      <td>SOLICITAÇÃO DE REFÚGIO</td>\n",
              "      <td>BOLÍVIA</td>\n",
              "      <td>06/2018</td>\n",
              "      <td>MG</td>\n",
              "      <td>1</td>\n",
              "    </tr>\n",
              "    <tr>\n",
              "      <th>1177</th>\n",
              "      <td>SOLICITAÇÃO DE REFÚGIO</td>\n",
              "      <td>BOLÍVIA</td>\n",
              "      <td>06/2018</td>\n",
              "      <td>SP</td>\n",
              "      <td>1</td>\n",
              "    </tr>\n",
              "    <tr>\n",
              "      <th>1178</th>\n",
              "      <td>SOLICITAÇÃO DE REFÚGIO</td>\n",
              "      <td>BOLÍVIA</td>\n",
              "      <td>07/2018</td>\n",
              "      <td>AM</td>\n",
              "      <td>1</td>\n",
              "    </tr>\n",
              "    <tr>\n",
              "      <th>1179</th>\n",
              "      <td>SOLICITAÇÃO DE REFÚGIO</td>\n",
              "      <td>BOLÍVIA</td>\n",
              "      <td>08/2018</td>\n",
              "      <td>AM</td>\n",
              "      <td>1</td>\n",
              "    </tr>\n",
              "    <tr>\n",
              "      <th>1180</th>\n",
              "      <td>SOLICITAÇÃO DE REFÚGIO</td>\n",
              "      <td>BOLÍVIA</td>\n",
              "      <td>08/2018</td>\n",
              "      <td>SP</td>\n",
              "      <td>1</td>\n",
              "    </tr>\n",
              "    <tr>\n",
              "      <th>1181</th>\n",
              "      <td>SOLICITAÇÃO DE REFÚGIO</td>\n",
              "      <td>BOLÍVIA</td>\n",
              "      <td>09/2018</td>\n",
              "      <td>DF</td>\n",
              "      <td>1</td>\n",
              "    </tr>\n",
              "    <tr>\n",
              "      <th>1182</th>\n",
              "      <td>SOLICITAÇÃO DE REFÚGIO</td>\n",
              "      <td>BOLÍVIA</td>\n",
              "      <td>09/2018</td>\n",
              "      <td>MT</td>\n",
              "      <td>1</td>\n",
              "    </tr>\n",
              "    <tr>\n",
              "      <th>1183</th>\n",
              "      <td>SOLICITAÇÃO DE REFÚGIO</td>\n",
              "      <td>BOLÍVIA</td>\n",
              "      <td>09/2018</td>\n",
              "      <td>SP</td>\n",
              "      <td>1</td>\n",
              "    </tr>\n",
              "    <tr>\n",
              "      <th>1184</th>\n",
              "      <td>SOLICITAÇÃO DE REFÚGIO</td>\n",
              "      <td>BOLÍVIA</td>\n",
              "      <td>10/2018</td>\n",
              "      <td>AM</td>\n",
              "      <td>4</td>\n",
              "    </tr>\n",
              "    <tr>\n",
              "      <th>1185</th>\n",
              "      <td>SOLICITAÇÃO DE REFÚGIO</td>\n",
              "      <td>BOLÍVIA</td>\n",
              "      <td>10/2018</td>\n",
              "      <td>GO</td>\n",
              "      <td>1</td>\n",
              "    </tr>\n",
              "    <tr>\n",
              "      <th>1186</th>\n",
              "      <td>SOLICITAÇÃO DE REFÚGIO</td>\n",
              "      <td>BOLÍVIA</td>\n",
              "      <td>10/2018</td>\n",
              "      <td>RR</td>\n",
              "      <td>1</td>\n",
              "    </tr>\n",
              "    <tr>\n",
              "      <th>1187</th>\n",
              "      <td>SOLICITAÇÃO DE REFÚGIO</td>\n",
              "      <td>BOLÍVIA</td>\n",
              "      <td>10/2018</td>\n",
              "      <td>SC</td>\n",
              "      <td>1</td>\n",
              "    </tr>\n",
              "    <tr>\n",
              "      <th>1188</th>\n",
              "      <td>SOLICITAÇÃO DE REFÚGIO</td>\n",
              "      <td>BOLÍVIA</td>\n",
              "      <td>12/2018</td>\n",
              "      <td>AC</td>\n",
              "      <td>1</td>\n",
              "    </tr>\n",
              "    <tr>\n",
              "      <th>1189</th>\n",
              "      <td>SOLICITAÇÃO DE REFÚGIO</td>\n",
              "      <td>BOLÍVIA</td>\n",
              "      <td>01/2019</td>\n",
              "      <td>DF</td>\n",
              "      <td>1</td>\n",
              "    </tr>\n",
              "    <tr>\n",
              "      <th>1190</th>\n",
              "      <td>SOLICITAÇÃO DE REFÚGIO</td>\n",
              "      <td>BOLÍVIA</td>\n",
              "      <td>01/2019</td>\n",
              "      <td>MS</td>\n",
              "      <td>1</td>\n",
              "    </tr>\n",
              "    <tr>\n",
              "      <th>1191</th>\n",
              "      <td>SOLICITAÇÃO DE REFÚGIO</td>\n",
              "      <td>BOLÍVIA</td>\n",
              "      <td>01/2019</td>\n",
              "      <td>SP</td>\n",
              "      <td>2</td>\n",
              "    </tr>\n",
              "    <tr>\n",
              "      <th>1192</th>\n",
              "      <td>SOLICITAÇÃO DE REFÚGIO</td>\n",
              "      <td>BOLÍVIA</td>\n",
              "      <td>02/2019</td>\n",
              "      <td>SP</td>\n",
              "      <td>3</td>\n",
              "    </tr>\n",
              "    <tr>\n",
              "      <th>1193</th>\n",
              "      <td>SOLICITAÇÃO DE REFÚGIO</td>\n",
              "      <td>BOLÍVIA</td>\n",
              "      <td>03/2019</td>\n",
              "      <td>RJ</td>\n",
              "      <td>2</td>\n",
              "    </tr>\n",
              "    <tr>\n",
              "      <th>1194</th>\n",
              "      <td>SOLICITAÇÃO DE REFÚGIO</td>\n",
              "      <td>BOLÍVIA</td>\n",
              "      <td>03/2019</td>\n",
              "      <td>SP</td>\n",
              "      <td>1</td>\n",
              "    </tr>\n",
              "  </tbody>\n",
              "</table>\n",
              "<p>113 rows × 5 columns</p>\n",
              "</div>"
            ],
            "text/plain": [
              "     Tipo de Alertas e Restrições Nacionalidade  Mês/Ano  UF  Quantidade\n",
              "1082       SOLICITAÇÃO DE REFÚGIO       BOLÍVIA  02/2002  SP           1\n",
              "1083       SOLICITAÇÃO DE REFÚGIO       BOLÍVIA  06/2002  SP           7\n",
              "1084       SOLICITAÇÃO DE REFÚGIO       BOLÍVIA  07/2002  SP           1\n",
              "1085       SOLICITAÇÃO DE REFÚGIO       BOLÍVIA  01/2006  SP           1\n",
              "1086       SOLICITAÇÃO DE REFÚGIO       BOLÍVIA  07/2006  SP           1\n",
              "1087       SOLICITAÇÃO DE REFÚGIO       BOLÍVIA  11/2008  AC          16\n",
              "1088       SOLICITAÇÃO DE REFÚGIO       BOLÍVIA  11/2008  DF           3\n",
              "1089       SOLICITAÇÃO DE REFÚGIO       BOLÍVIA  11/2008  RO           3\n",
              "1090       SOLICITAÇÃO DE REFÚGIO       BOLÍVIA  12/2008  AC          35\n",
              "1091       SOLICITAÇÃO DE REFÚGIO       BOLÍVIA  12/2008  DF           5\n",
              "1092       SOLICITAÇÃO DE REFÚGIO       BOLÍVIA  12/2008  RO           1\n",
              "1093       SOLICITAÇÃO DE REFÚGIO       BOLÍVIA  01/2009  AC         142\n",
              "1094       SOLICITAÇÃO DE REFÚGIO       BOLÍVIA  01/2009  DF          25\n",
              "1095       SOLICITAÇÃO DE REFÚGIO       BOLÍVIA  01/2009  MS           1\n",
              "1096       SOLICITAÇÃO DE REFÚGIO       BOLÍVIA  02/2009  AC           1\n",
              "1097       SOLICITAÇÃO DE REFÚGIO       BOLÍVIA  03/2009  DF           1\n",
              "1098       SOLICITAÇÃO DE REFÚGIO       BOLÍVIA  04/2009  AC          11\n",
              "1099       SOLICITAÇÃO DE REFÚGIO       BOLÍVIA  04/2009  DF           2\n",
              "1100       SOLICITAÇÃO DE REFÚGIO       BOLÍVIA  06/2009  AC           6\n",
              "1101       SOLICITAÇÃO DE REFÚGIO       BOLÍVIA  06/2009  DF           2\n",
              "1102       SOLICITAÇÃO DE REFÚGIO       BOLÍVIA  08/2009  RO           1\n",
              "1103       SOLICITAÇÃO DE REFÚGIO       BOLÍVIA  01/2010  AC           5\n",
              "1104       SOLICITAÇÃO DE REFÚGIO       BOLÍVIA  03/2010  AC           4\n",
              "1105       SOLICITAÇÃO DE REFÚGIO       BOLÍVIA  03/2010  MS           1\n",
              "1106       SOLICITAÇÃO DE REFÚGIO       BOLÍVIA  07/2010  AC           1\n",
              "1107       SOLICITAÇÃO DE REFÚGIO       BOLÍVIA  07/2010  MS           1\n",
              "1108       SOLICITAÇÃO DE REFÚGIO       BOLÍVIA  08/2010  AC           2\n",
              "1109       SOLICITAÇÃO DE REFÚGIO       BOLÍVIA  09/2010  AC           5\n",
              "1110       SOLICITAÇÃO DE REFÚGIO       BOLÍVIA  09/2010  MS           1\n",
              "1111       SOLICITAÇÃO DE REFÚGIO       BOLÍVIA  10/2010  AC           3\n",
              "...                           ...           ...      ...  ..         ...\n",
              "1165       SOLICITAÇÃO DE REFÚGIO       BOLÍVIA  06/2017  SP           1\n",
              "1166       SOLICITAÇÃO DE REFÚGIO       BOLÍVIA  07/2017  DF           1\n",
              "1167       SOLICITAÇÃO DE REFÚGIO       BOLÍVIA  09/2017  RJ           1\n",
              "1168       SOLICITAÇÃO DE REFÚGIO       BOLÍVIA  10/2017  SP           2\n",
              "1169       SOLICITAÇÃO DE REFÚGIO       BOLÍVIA  01/2018  AM           1\n",
              "1170       SOLICITAÇÃO DE REFÚGIO       BOLÍVIA  02/2018  SP           1\n",
              "1171       SOLICITAÇÃO DE REFÚGIO       BOLÍVIA  03/2018  MS           1\n",
              "1172       SOLICITAÇÃO DE REFÚGIO       BOLÍVIA  04/2018  SP           1\n",
              "1173       SOLICITAÇÃO DE REFÚGIO       BOLÍVIA  05/2018  AM           1\n",
              "1174       SOLICITAÇÃO DE REFÚGIO       BOLÍVIA  05/2018  RR           1\n",
              "1175       SOLICITAÇÃO DE REFÚGIO       BOLÍVIA  06/2018  AC           3\n",
              "1176       SOLICITAÇÃO DE REFÚGIO       BOLÍVIA  06/2018  MG           1\n",
              "1177       SOLICITAÇÃO DE REFÚGIO       BOLÍVIA  06/2018  SP           1\n",
              "1178       SOLICITAÇÃO DE REFÚGIO       BOLÍVIA  07/2018  AM           1\n",
              "1179       SOLICITAÇÃO DE REFÚGIO       BOLÍVIA  08/2018  AM           1\n",
              "1180       SOLICITAÇÃO DE REFÚGIO       BOLÍVIA  08/2018  SP           1\n",
              "1181       SOLICITAÇÃO DE REFÚGIO       BOLÍVIA  09/2018  DF           1\n",
              "1182       SOLICITAÇÃO DE REFÚGIO       BOLÍVIA  09/2018  MT           1\n",
              "1183       SOLICITAÇÃO DE REFÚGIO       BOLÍVIA  09/2018  SP           1\n",
              "1184       SOLICITAÇÃO DE REFÚGIO       BOLÍVIA  10/2018  AM           4\n",
              "1185       SOLICITAÇÃO DE REFÚGIO       BOLÍVIA  10/2018  GO           1\n",
              "1186       SOLICITAÇÃO DE REFÚGIO       BOLÍVIA  10/2018  RR           1\n",
              "1187       SOLICITAÇÃO DE REFÚGIO       BOLÍVIA  10/2018  SC           1\n",
              "1188       SOLICITAÇÃO DE REFÚGIO       BOLÍVIA  12/2018  AC           1\n",
              "1189       SOLICITAÇÃO DE REFÚGIO       BOLÍVIA  01/2019  DF           1\n",
              "1190       SOLICITAÇÃO DE REFÚGIO       BOLÍVIA  01/2019  MS           1\n",
              "1191       SOLICITAÇÃO DE REFÚGIO       BOLÍVIA  01/2019  SP           2\n",
              "1192       SOLICITAÇÃO DE REFÚGIO       BOLÍVIA  02/2019  SP           3\n",
              "1193       SOLICITAÇÃO DE REFÚGIO       BOLÍVIA  03/2019  RJ           2\n",
              "1194       SOLICITAÇÃO DE REFÚGIO       BOLÍVIA  03/2019  SP           1\n",
              "\n",
              "[113 rows x 5 columns]"
            ]
          },
          "metadata": {
            "tags": []
          },
          "execution_count": 10
        }
      ]
    },
    {
      "cell_type": "code",
      "metadata": {
        "id": "rW4l5-lzrPSO",
        "colab_type": "code",
        "outputId": "1f7070c1-0cdb-4c77-aafa-090a66f0c756",
        "colab": {
          "base_uri": "https://localhost:8080/",
          "height": 235
        }
      },
      "source": [
        "dfs.loc[(dfs['Nacionalidade'] == 'BOLÍVIA')  & (dfs['UF'] =='AM')]"
      ],
      "execution_count": 11,
      "outputs": [
        {
          "output_type": "execute_result",
          "data": {
            "text/html": [
              "<div>\n",
              "<style scoped>\n",
              "    .dataframe tbody tr th:only-of-type {\n",
              "        vertical-align: middle;\n",
              "    }\n",
              "\n",
              "    .dataframe tbody tr th {\n",
              "        vertical-align: top;\n",
              "    }\n",
              "\n",
              "    .dataframe thead th {\n",
              "        text-align: right;\n",
              "    }\n",
              "</style>\n",
              "<table border=\"1\" class=\"dataframe\">\n",
              "  <thead>\n",
              "    <tr style=\"text-align: right;\">\n",
              "      <th></th>\n",
              "      <th>Tipo de Alertas e Restrições</th>\n",
              "      <th>Nacionalidade</th>\n",
              "      <th>Mês/Ano</th>\n",
              "      <th>UF</th>\n",
              "      <th>Quantidade</th>\n",
              "    </tr>\n",
              "  </thead>\n",
              "  <tbody>\n",
              "    <tr>\n",
              "      <th>1157</th>\n",
              "      <td>SOLICITAÇÃO DE REFÚGIO</td>\n",
              "      <td>BOLÍVIA</td>\n",
              "      <td>10/2016</td>\n",
              "      <td>AM</td>\n",
              "      <td>1</td>\n",
              "    </tr>\n",
              "    <tr>\n",
              "      <th>1169</th>\n",
              "      <td>SOLICITAÇÃO DE REFÚGIO</td>\n",
              "      <td>BOLÍVIA</td>\n",
              "      <td>01/2018</td>\n",
              "      <td>AM</td>\n",
              "      <td>1</td>\n",
              "    </tr>\n",
              "    <tr>\n",
              "      <th>1173</th>\n",
              "      <td>SOLICITAÇÃO DE REFÚGIO</td>\n",
              "      <td>BOLÍVIA</td>\n",
              "      <td>05/2018</td>\n",
              "      <td>AM</td>\n",
              "      <td>1</td>\n",
              "    </tr>\n",
              "    <tr>\n",
              "      <th>1178</th>\n",
              "      <td>SOLICITAÇÃO DE REFÚGIO</td>\n",
              "      <td>BOLÍVIA</td>\n",
              "      <td>07/2018</td>\n",
              "      <td>AM</td>\n",
              "      <td>1</td>\n",
              "    </tr>\n",
              "    <tr>\n",
              "      <th>1179</th>\n",
              "      <td>SOLICITAÇÃO DE REFÚGIO</td>\n",
              "      <td>BOLÍVIA</td>\n",
              "      <td>08/2018</td>\n",
              "      <td>AM</td>\n",
              "      <td>1</td>\n",
              "    </tr>\n",
              "    <tr>\n",
              "      <th>1184</th>\n",
              "      <td>SOLICITAÇÃO DE REFÚGIO</td>\n",
              "      <td>BOLÍVIA</td>\n",
              "      <td>10/2018</td>\n",
              "      <td>AM</td>\n",
              "      <td>4</td>\n",
              "    </tr>\n",
              "  </tbody>\n",
              "</table>\n",
              "</div>"
            ],
            "text/plain": [
              "     Tipo de Alertas e Restrições Nacionalidade  Mês/Ano  UF  Quantidade\n",
              "1157       SOLICITAÇÃO DE REFÚGIO       BOLÍVIA  10/2016  AM           1\n",
              "1169       SOLICITAÇÃO DE REFÚGIO       BOLÍVIA  01/2018  AM           1\n",
              "1173       SOLICITAÇÃO DE REFÚGIO       BOLÍVIA  05/2018  AM           1\n",
              "1178       SOLICITAÇÃO DE REFÚGIO       BOLÍVIA  07/2018  AM           1\n",
              "1179       SOLICITAÇÃO DE REFÚGIO       BOLÍVIA  08/2018  AM           1\n",
              "1184       SOLICITAÇÃO DE REFÚGIO       BOLÍVIA  10/2018  AM           4"
            ]
          },
          "metadata": {
            "tags": []
          },
          "execution_count": 11
        }
      ]
    },
    {
      "cell_type": "code",
      "metadata": {
        "id": "hhkoktMiq38N",
        "colab_type": "code",
        "outputId": "58713aaa-b56c-4bae-97ee-6ebdc02a9f26",
        "colab": {
          "base_uri": "https://localhost:8080/",
          "height": 142
        }
      },
      "source": [
        "#selecionando + de 1 Nacionalidade específica\n",
        "dfs.loc[(dfs['Nacionalidade'] == 'UZBEQUISTÃO')  | (dfs['Nacionalidade'] =='ESTÔNIA')]"
      ],
      "execution_count": 12,
      "outputs": [
        {
          "output_type": "execute_result",
          "data": {
            "text/html": [
              "<div>\n",
              "<style scoped>\n",
              "    .dataframe tbody tr th:only-of-type {\n",
              "        vertical-align: middle;\n",
              "    }\n",
              "\n",
              "    .dataframe tbody tr th {\n",
              "        vertical-align: top;\n",
              "    }\n",
              "\n",
              "    .dataframe thead th {\n",
              "        text-align: right;\n",
              "    }\n",
              "</style>\n",
              "<table border=\"1\" class=\"dataframe\">\n",
              "  <thead>\n",
              "    <tr style=\"text-align: right;\">\n",
              "      <th></th>\n",
              "      <th>Tipo de Alertas e Restrições</th>\n",
              "      <th>Nacionalidade</th>\n",
              "      <th>Mês/Ano</th>\n",
              "      <th>UF</th>\n",
              "      <th>Quantidade</th>\n",
              "    </tr>\n",
              "  </thead>\n",
              "  <tbody>\n",
              "    <tr>\n",
              "      <th>3960</th>\n",
              "      <td>SOLICITAÇÃO DE REFÚGIO</td>\n",
              "      <td>ESTÔNIA</td>\n",
              "      <td>12/2017</td>\n",
              "      <td>AM</td>\n",
              "      <td>1</td>\n",
              "    </tr>\n",
              "    <tr>\n",
              "      <th>10693</th>\n",
              "      <td>SOLICITAÇÃO DE REFÚGIO</td>\n",
              "      <td>UZBEQUISTÃO</td>\n",
              "      <td>07/2009</td>\n",
              "      <td>DF</td>\n",
              "      <td>1</td>\n",
              "    </tr>\n",
              "    <tr>\n",
              "      <th>10694</th>\n",
              "      <td>SOLICITAÇÃO DE REFÚGIO</td>\n",
              "      <td>UZBEQUISTÃO</td>\n",
              "      <td>06/2018</td>\n",
              "      <td>SP</td>\n",
              "      <td>2</td>\n",
              "    </tr>\n",
              "  </tbody>\n",
              "</table>\n",
              "</div>"
            ],
            "text/plain": [
              "      Tipo de Alertas e Restrições Nacionalidade  Mês/Ano  UF  Quantidade\n",
              "3960        SOLICITAÇÃO DE REFÚGIO       ESTÔNIA  12/2017  AM           1\n",
              "10693       SOLICITAÇÃO DE REFÚGIO   UZBEQUISTÃO  07/2009  DF           1\n",
              "10694       SOLICITAÇÃO DE REFÚGIO   UZBEQUISTÃO  06/2018  SP           2"
            ]
          },
          "metadata": {
            "tags": []
          },
          "execution_count": 12
        }
      ]
    },
    {
      "cell_type": "markdown",
      "metadata": {
        "id": "lXlFeM50uB59",
        "colab_type": "text"
      },
      "source": [
        "![logos](https://d1nhio0ox7pgb.cloudfront.net/_img/o_collection_png/green_dark_grey/256x256/plain/table.png)"
      ]
    },
    {
      "cell_type": "markdown",
      "metadata": {
        "id": "LGEptXHasqTm",
        "colab_type": "text"
      },
      "source": [
        "Outro **Dataframe** agora ..."
      ]
    },
    {
      "cell_type": "code",
      "metadata": {
        "id": "Od1xnYkTm_kt",
        "colab_type": "code",
        "colab": {}
      },
      "source": [
        "url1 = 'https://www.justica.gov.br/seus-direitos/refugio/anexos/decisoes-conare-ate-jan-2019.xlsx'"
      ],
      "execution_count": 0,
      "outputs": []
    },
    {
      "cell_type": "code",
      "metadata": {
        "id": "Cnysw3XanB-7",
        "colab_type": "code",
        "colab": {}
      },
      "source": [
        "dfd = pd.read_excel(url1,enconding='latin',delimiter=\";\")"
      ],
      "execution_count": 0,
      "outputs": []
    },
    {
      "cell_type": "code",
      "metadata": {
        "id": "KRhSD5ZGnP8j",
        "colab_type": "code",
        "outputId": "da24c2bf-f912-4c26-d73c-0581bb1470f1",
        "colab": {
          "base_uri": "https://localhost:8080/",
          "height": 204
        }
      },
      "source": [
        "dfd.head()"
      ],
      "execution_count": 15,
      "outputs": [
        {
          "output_type": "execute_result",
          "data": {
            "text/html": [
              "<div>\n",
              "<style scoped>\n",
              "    .dataframe tbody tr th:only-of-type {\n",
              "        vertical-align: middle;\n",
              "    }\n",
              "\n",
              "    .dataframe tbody tr th {\n",
              "        vertical-align: top;\n",
              "    }\n",
              "\n",
              "    .dataframe thead th {\n",
              "        text-align: right;\n",
              "    }\n",
              "</style>\n",
              "<table border=\"1\" class=\"dataframe\">\n",
              "  <thead>\n",
              "    <tr style=\"text-align: right;\">\n",
              "      <th></th>\n",
              "      <th>TOTAL= 1510</th>\n",
              "      <th>STATUS</th>\n",
              "      <th>DATA SOLICITAÇÃO</th>\n",
              "      <th>PAÍS DE ORIGEM</th>\n",
              "      <th>GÊNERO</th>\n",
              "      <th>ANO DE NASCIMENTO</th>\n",
              "      <th>CIDADE SOLICITAÇÃO</th>\n",
              "      <th>ANO DECISÃO</th>\n",
              "    </tr>\n",
              "  </thead>\n",
              "  <tbody>\n",
              "    <tr>\n",
              "      <th>0</th>\n",
              "      <td>NaN</td>\n",
              "      <td>ELEGIBILIDADE / DEFERIMENTO</td>\n",
              "      <td>1993-04-15</td>\n",
              "      <td>ANGOLA</td>\n",
              "      <td>NaN</td>\n",
              "      <td>Desconhecido</td>\n",
              "      <td>RJ (RIO DE JANEIRO)</td>\n",
              "      <td>1993.000000</td>\n",
              "    </tr>\n",
              "    <tr>\n",
              "      <th>1</th>\n",
              "      <td>NaN</td>\n",
              "      <td>ELEGIBILIDADE / DEFERIMENTO</td>\n",
              "      <td>1993-04-15</td>\n",
              "      <td>ANGOLA</td>\n",
              "      <td>NaN</td>\n",
              "      <td>Desconhecido</td>\n",
              "      <td>RJ (RIO DE JANEIRO)</td>\n",
              "      <td>1994.487979</td>\n",
              "    </tr>\n",
              "    <tr>\n",
              "      <th>2</th>\n",
              "      <td>NaN</td>\n",
              "      <td>ELEGIBILIDADE / DEFERIMENTO</td>\n",
              "      <td>1995-06-22</td>\n",
              "      <td>LIBÉRIA</td>\n",
              "      <td>NaN</td>\n",
              "      <td>Desconhecido</td>\n",
              "      <td>RJ (RIO DE JANEIRO)</td>\n",
              "      <td>1995.000000</td>\n",
              "    </tr>\n",
              "    <tr>\n",
              "      <th>3</th>\n",
              "      <td>NaN</td>\n",
              "      <td>ELEGIBILIDADE / DEFERIMENTO</td>\n",
              "      <td>1995-06-22</td>\n",
              "      <td>LIBÉRIA</td>\n",
              "      <td>NaN</td>\n",
              "      <td>Desconhecido</td>\n",
              "      <td>RJ (RIO DE JANEIRO)</td>\n",
              "      <td>1994.487866</td>\n",
              "    </tr>\n",
              "    <tr>\n",
              "      <th>4</th>\n",
              "      <td>NaN</td>\n",
              "      <td>ELEGIBILIDADE / DEFERIMENTO</td>\n",
              "      <td>1992-07-22</td>\n",
              "      <td>APÁTRIDA</td>\n",
              "      <td>NaN</td>\n",
              "      <td>Desconhecido</td>\n",
              "      <td>RJ (RIO DE JANEIRO)</td>\n",
              "      <td>1992.000000</td>\n",
              "    </tr>\n",
              "  </tbody>\n",
              "</table>\n",
              "</div>"
            ],
            "text/plain": [
              "   TOTAL= 1510                       STATUS  ...   CIDADE SOLICITAÇÃO  ANO DECISÃO\n",
              "0          NaN  ELEGIBILIDADE / DEFERIMENTO  ...  RJ (RIO DE JANEIRO)  1993.000000\n",
              "1          NaN  ELEGIBILIDADE / DEFERIMENTO  ...  RJ (RIO DE JANEIRO)  1994.487979\n",
              "2          NaN  ELEGIBILIDADE / DEFERIMENTO  ...  RJ (RIO DE JANEIRO)  1995.000000\n",
              "3          NaN  ELEGIBILIDADE / DEFERIMENTO  ...  RJ (RIO DE JANEIRO)  1994.487866\n",
              "4          NaN  ELEGIBILIDADE / DEFERIMENTO  ...  RJ (RIO DE JANEIRO)  1992.000000\n",
              "\n",
              "[5 rows x 8 columns]"
            ]
          },
          "metadata": {
            "tags": []
          },
          "execution_count": 15
        }
      ]
    },
    {
      "cell_type": "code",
      "metadata": {
        "id": "Vn-JnvSps6ac",
        "colab_type": "code",
        "colab": {}
      },
      "source": [
        "dfg = dfd.drop(['TOTAL= 1510'], axis=1)"
      ],
      "execution_count": 0,
      "outputs": []
    },
    {
      "cell_type": "code",
      "metadata": {
        "id": "B8l2HzLzliJD",
        "colab_type": "code",
        "outputId": "f1e5f4f7-3a37-41de-c3d7-7b4ff5eef37d",
        "colab": {
          "base_uri": "https://localhost:8080/",
          "height": 34
        }
      },
      "source": [
        "# quantidade de linhas e colunas do dataframe\n",
        "dfg.shape"
      ],
      "execution_count": 17,
      "outputs": [
        {
          "output_type": "execute_result",
          "data": {
            "text/plain": [
              "(1515, 7)"
            ]
          },
          "metadata": {
            "tags": []
          },
          "execution_count": 17
        }
      ]
    },
    {
      "cell_type": "code",
      "metadata": {
        "id": "g4qFUbLPluad",
        "colab_type": "code",
        "outputId": "4bad02fc-b956-4573-f087-671b16d4558a",
        "colab": {
          "base_uri": "https://localhost:8080/",
          "height": 204
        }
      },
      "source": [
        "# as últimas 5 linhas\n",
        "dfg.head()"
      ],
      "execution_count": 18,
      "outputs": [
        {
          "output_type": "execute_result",
          "data": {
            "text/html": [
              "<div>\n",
              "<style scoped>\n",
              "    .dataframe tbody tr th:only-of-type {\n",
              "        vertical-align: middle;\n",
              "    }\n",
              "\n",
              "    .dataframe tbody tr th {\n",
              "        vertical-align: top;\n",
              "    }\n",
              "\n",
              "    .dataframe thead th {\n",
              "        text-align: right;\n",
              "    }\n",
              "</style>\n",
              "<table border=\"1\" class=\"dataframe\">\n",
              "  <thead>\n",
              "    <tr style=\"text-align: right;\">\n",
              "      <th></th>\n",
              "      <th>STATUS</th>\n",
              "      <th>DATA SOLICITAÇÃO</th>\n",
              "      <th>PAÍS DE ORIGEM</th>\n",
              "      <th>GÊNERO</th>\n",
              "      <th>ANO DE NASCIMENTO</th>\n",
              "      <th>CIDADE SOLICITAÇÃO</th>\n",
              "      <th>ANO DECISÃO</th>\n",
              "    </tr>\n",
              "  </thead>\n",
              "  <tbody>\n",
              "    <tr>\n",
              "      <th>0</th>\n",
              "      <td>ELEGIBILIDADE / DEFERIMENTO</td>\n",
              "      <td>1993-04-15</td>\n",
              "      <td>ANGOLA</td>\n",
              "      <td>NaN</td>\n",
              "      <td>Desconhecido</td>\n",
              "      <td>RJ (RIO DE JANEIRO)</td>\n",
              "      <td>1993.000000</td>\n",
              "    </tr>\n",
              "    <tr>\n",
              "      <th>1</th>\n",
              "      <td>ELEGIBILIDADE / DEFERIMENTO</td>\n",
              "      <td>1993-04-15</td>\n",
              "      <td>ANGOLA</td>\n",
              "      <td>NaN</td>\n",
              "      <td>Desconhecido</td>\n",
              "      <td>RJ (RIO DE JANEIRO)</td>\n",
              "      <td>1994.487979</td>\n",
              "    </tr>\n",
              "    <tr>\n",
              "      <th>2</th>\n",
              "      <td>ELEGIBILIDADE / DEFERIMENTO</td>\n",
              "      <td>1995-06-22</td>\n",
              "      <td>LIBÉRIA</td>\n",
              "      <td>NaN</td>\n",
              "      <td>Desconhecido</td>\n",
              "      <td>RJ (RIO DE JANEIRO)</td>\n",
              "      <td>1995.000000</td>\n",
              "    </tr>\n",
              "    <tr>\n",
              "      <th>3</th>\n",
              "      <td>ELEGIBILIDADE / DEFERIMENTO</td>\n",
              "      <td>1995-06-22</td>\n",
              "      <td>LIBÉRIA</td>\n",
              "      <td>NaN</td>\n",
              "      <td>Desconhecido</td>\n",
              "      <td>RJ (RIO DE JANEIRO)</td>\n",
              "      <td>1994.487866</td>\n",
              "    </tr>\n",
              "    <tr>\n",
              "      <th>4</th>\n",
              "      <td>ELEGIBILIDADE / DEFERIMENTO</td>\n",
              "      <td>1992-07-22</td>\n",
              "      <td>APÁTRIDA</td>\n",
              "      <td>NaN</td>\n",
              "      <td>Desconhecido</td>\n",
              "      <td>RJ (RIO DE JANEIRO)</td>\n",
              "      <td>1992.000000</td>\n",
              "    </tr>\n",
              "  </tbody>\n",
              "</table>\n",
              "</div>"
            ],
            "text/plain": [
              "                        STATUS  ...  ANO DECISÃO\n",
              "0  ELEGIBILIDADE / DEFERIMENTO  ...  1993.000000\n",
              "1  ELEGIBILIDADE / DEFERIMENTO  ...  1994.487979\n",
              "2  ELEGIBILIDADE / DEFERIMENTO  ...  1995.000000\n",
              "3  ELEGIBILIDADE / DEFERIMENTO  ...  1994.487866\n",
              "4  ELEGIBILIDADE / DEFERIMENTO  ...  1992.000000\n",
              "\n",
              "[5 rows x 7 columns]"
            ]
          },
          "metadata": {
            "tags": []
          },
          "execution_count": 18
        }
      ]
    },
    {
      "cell_type": "code",
      "metadata": {
        "id": "zqEuTkrRlvGr",
        "colab_type": "code",
        "outputId": "1ce1b0e1-bd9f-4110-b5dd-ce31621da96a",
        "colab": {
          "base_uri": "https://localhost:8080/",
          "height": 153
        }
      },
      "source": [
        "# após a importação e visualização, como serão as colunas e características do nosso Dataframe?\n",
        "dfg.dtypes"
      ],
      "execution_count": 19,
      "outputs": [
        {
          "output_type": "execute_result",
          "data": {
            "text/plain": [
              "STATUS                        object\n",
              "DATA SOLICITAÇÃO      datetime64[ns]\n",
              "PAÍS DE ORIGEM                object\n",
              "GÊNERO                        object\n",
              "ANO DE NASCIMENTO             object\n",
              "CIDADE SOLICITAÇÃO            object\n",
              "ANO DECISÃO                  float64\n",
              "dtype: object"
            ]
          },
          "metadata": {
            "tags": []
          },
          "execution_count": 19
        }
      ]
    },
    {
      "cell_type": "code",
      "metadata": {
        "id": "HZpW3qSGnAOO",
        "colab_type": "code",
        "outputId": "ce286701-6b95-465c-fd50-b81f3f197386",
        "colab": {
          "base_uri": "https://localhost:8080/",
          "height": 867
        }
      },
      "source": [
        "dfg['PAÍS DE ORIGEM'].value_counts()"
      ],
      "execution_count": 20,
      "outputs": [
        {
          "output_type": "execute_result",
          "data": {
            "text/plain": [
              "ANGOLA                   861\n",
              "LIBÉRIA                  182\n",
              "ZAIRE                     93\n",
              "CUBA                      64\n",
              "IRAQUE                    57\n",
              "IUGOSLÁVIA                37\n",
              "PERU                      28\n",
              "SERRA LEOA                20\n",
              "IRÃ                       17\n",
              "RUANDA                    15\n",
              "ARGENTINA                 13\n",
              "NIGÉRIA                   12\n",
              "LÍBANO                    11\n",
              "SOMÁLIA                   10\n",
              "SUDÃO                      8\n",
              "APÁTRIDA                   7\n",
              "SÉRVIA                     5\n",
              "MACEDÔNIA                  5\n",
              "GANA                       5\n",
              "EL SALVADOR                4\n",
              "ETIÓPIA                    4\n",
              "CROÁCIA                    4\n",
              "ARGÉLIA                    4\n",
              "EGITO                      4\n",
              "LÍBIA                      3\n",
              "SÍRIA                      3\n",
              "VIETNÃ                     3\n",
              "ÁFRICA DO SUL              3\n",
              "GUIANA                     2\n",
              "MOÇAMBIQUE                 2\n",
              "PALESTINA                  2\n",
              "MAURITÂNIA                 2\n",
              "CAMARÕES                   2\n",
              "REPÚBLICA DOMINICANA       2\n",
              "TANZANIA                   2\n",
              "GUINÉ-BISSAU               2\n",
              "ARMÊNIA                    2\n",
              "\"PAÍS FORA DA TABELA\"      1\n",
              "COLÔMBIA                   1\n",
              "BURUNDI                    1\n",
              "PAQUISTÃO                  1\n",
              "SRI-LANKA                  1\n",
              "BURKINA FASO               1\n",
              "CHILE                      1\n",
              "NICARÁGUA                  1\n",
              "                           1\n",
              "MALI                       1\n",
              "ROMÊNIA                    1\n",
              "BÓSNIA E HEZERGOVINA       1\n",
              "Name: PAÍS DE ORIGEM, dtype: int64"
            ]
          },
          "metadata": {
            "tags": []
          },
          "execution_count": 20
        }
      ]
    },
    {
      "cell_type": "code",
      "metadata": {
        "id": "VIs8lT-dnARw",
        "colab_type": "code",
        "outputId": "ab4ac990-2ff3-4aef-f4c4-bd829c4a0e55",
        "colab": {
          "base_uri": "https://localhost:8080/",
          "height": 51
        }
      },
      "source": [
        "dfg['STATUS'].value_counts()"
      ],
      "execution_count": 21,
      "outputs": [
        {
          "output_type": "execute_result",
          "data": {
            "text/plain": [
              "ELEGIBILIDADE / DEFERIMENTO    1503\n",
              "Name: STATUS, dtype: int64"
            ]
          },
          "metadata": {
            "tags": []
          },
          "execution_count": 21
        }
      ]
    }
  ]
}